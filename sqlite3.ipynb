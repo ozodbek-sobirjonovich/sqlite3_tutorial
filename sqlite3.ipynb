{
 "cells": [
  {
   "attachments": {},
   "cell_type": "markdown",
   "metadata": {},
   "source": [
    "## SQLite kutubxonasidan foydalanish! Ma'lumotlar bazasi bilan ishlash!"
   ]
  },
  {
   "attachments": {},
   "cell_type": "markdown",
   "metadata": {},
   "source": [
    "#### Kutubxonani import qilish"
   ]
  },
  {
   "cell_type": "code",
   "execution_count": 16,
   "metadata": {},
   "outputs": [],
   "source": [
    "import sqlite3"
   ]
  },
  {
   "attachments": {},
   "cell_type": "markdown",
   "metadata": {},
   "source": [
    "#### Bazani yaratish"
   ]
  },
  {
   "cell_type": "code",
   "execution_count": 17,
   "metadata": {},
   "outputs": [],
   "source": [
    "db = sqlite3.connect(\"database.sqlite3\")"
   ]
  },
  {
   "attachments": {},
   "cell_type": "markdown",
   "metadata": {},
   "source": [
    "#### Kursor (baza bilan ishlovchi) obyektini yaratish"
   ]
  },
  {
   "cell_type": "code",
   "execution_count": 18,
   "metadata": {},
   "outputs": [],
   "source": [
    "cursor = db.cursor()"
   ]
  },
  {
   "attachments": {},
   "cell_type": "markdown",
   "metadata": {},
   "source": [
    "#### Bazada yangi TABLE (Jadval) yaratish"
   ]
  },
  {
   "cell_type": "code",
   "execution_count": 19,
   "metadata": {},
   "outputs": [],
   "source": [
    "cursor.execute(\"\"\"\n",
    "CREATE TABLE IF NOT EXISTS users(\n",
    "    id INTEGER PRIMARY KEY AUTOINCREMENT,\n",
    "    firstname TEXT,\n",
    "    lastname TEXT,\n",
    "    age INTEGER,\n",
    "    email TEXT\n",
    ")\n",
    "\"\"\")\n",
    "\n",
    "db.commit()"
   ]
  },
  {
   "attachments": {},
   "cell_type": "markdown",
   "metadata": {},
   "source": [
    "#### SQLITE baza fayllarini o'qish uchun alohida kengaytma (Extension) o'rnatilishi kerak! `CTRL+SHIFT+X` tugmachalarini bosish orqali Extensions oynasini oching va SQLite (Florian Klampfer) ni o'rnating!"
   ]
  },
  {
   "attachments": {},
   "cell_type": "markdown",
   "metadata": {},
   "source": [
    "#### TABLE (Jadval) ga ma'lumotlar yozish!"
   ]
  },
  {
   "cell_type": "code",
   "execution_count": 20,
   "metadata": {},
   "outputs": [],
   "source": [
    "cursor.execute(\"\"\"\n",
    "INSERT INTO users(firstname, lastname, age, email)\n",
    "VALUES ('John', 'Doe', 20, 'a@b.com')\n",
    "\"\"\")\n",
    "\n",
    "db.commit()"
   ]
  },
  {
   "attachments": {},
   "cell_type": "markdown",
   "metadata": {},
   "source": [
    "#### TABLE (Jadval) ichidagi ma'lumotlarni o'zgartirish! WHERE - shart asosida"
   ]
  },
  {
   "cell_type": "code",
   "execution_count": 21,
   "metadata": {},
   "outputs": [],
   "source": [
    "cursor.execute(\"\"\"\n",
    "UPDATE users SET age = 30 WHERE id = 1\n",
    "\"\"\")\n",
    "\n",
    "db.commit()"
   ]
  },
  {
   "attachments": {},
   "cell_type": "markdown",
   "metadata": {},
   "source": [
    "#### TABLE (Jadval) ichidagi ma'lumotlarni chaqirib olish!"
   ]
  },
  {
   "cell_type": "code",
   "execution_count": 22,
   "metadata": {},
   "outputs": [
    {
     "name": "stdout",
     "output_type": "stream",
     "text": [
      "(1, 'John', 'Doe', 30, 'a@b.com')\n",
      "[]\n"
     ]
    }
   ],
   "source": [
    "cursor.execute(\"\"\"\n",
    "SELECT * FROM users\n",
    "\"\"\")\n",
    "\n",
    "print(cursor.fetchone()) # Bittasini chaqirib olish!\n",
    "print(cursor.fetchall()) # Barchasini chaqirib olish!"
   ]
  },
  {
   "attachments": {},
   "cell_type": "markdown",
   "metadata": {},
   "source": [
    "#### TABLE (Jadval) ichidan ma'lumotlarni qidirish!"
   ]
  },
  {
   "cell_type": "code",
   "execution_count": 24,
   "metadata": {},
   "outputs": [
    {
     "name": "stdout",
     "output_type": "stream",
     "text": [
      "[(1, 'John', 'Doe', 30, 'a@b.com')]\n"
     ]
    }
   ],
   "source": [
    "cursor.execute(\"\"\"\n",
    "SELECT * FROM users WHERE firstname LIKE '%o%'\n",
    "\"\"\")\n",
    "\n",
    "print(cursor.fetchall())"
   ]
  },
  {
   "attachments": {},
   "cell_type": "markdown",
   "metadata": {},
   "source": [
    "#### TABLE (Jadval) ma'lumotlarini o'chirish"
   ]
  },
  {
   "cell_type": "code",
   "execution_count": 14,
   "metadata": {},
   "outputs": [],
   "source": [
    "cursor.execute(\"\"\"\n",
    "DELETE FROM users WHERE id = 1\n",
    "\"\"\")\n",
    "\n",
    "db.commit()"
   ]
  },
  {
   "attachments": {},
   "cell_type": "markdown",
   "metadata": {},
   "source": [
    "#### Jadvalni o'chirib tashlash"
   ]
  },
  {
   "cell_type": "code",
   "execution_count": 15,
   "metadata": {},
   "outputs": [],
   "source": [
    "cursor.execute(\"\"\"\n",
    "DROP TABLE users\n",
    "\"\"\")\n",
    "\n",
    "db.commit()"
   ]
  }
 ],
 "metadata": {
  "kernelspec": {
   "display_name": "Python 3",
   "language": "python",
   "name": "python3"
  },
  "language_info": {
   "codemirror_mode": {
    "name": "ipython",
    "version": 3
   },
   "file_extension": ".py",
   "mimetype": "text/x-python",
   "name": "python",
   "nbconvert_exporter": "python",
   "pygments_lexer": "ipython3",
   "version": "3.10.8"
  },
  "orig_nbformat": 4,
  "vscode": {
   "interpreter": {
    "hash": "369f2c481f4da34e4445cda3fffd2e751bd1c4d706f27375911949ba6bb62e1c"
   }
  }
 },
 "nbformat": 4,
 "nbformat_minor": 2
}
